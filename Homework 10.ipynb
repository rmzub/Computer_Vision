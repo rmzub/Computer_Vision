{
 "cells": [
  {
   "cell_type": "markdown",
   "id": "3915f282-3074-4278-8efc-fd0c71402975",
   "metadata": {},
   "source": [
    "# HOMEWORK 9"
   ]
  },
  {
   "cell_type": "markdown",
   "id": "f76d7524-7d4e-4719-b3a8-96f647dc04f2",
   "metadata": {},
   "source": [
    "In this homework, you are going to use and compare two different trackers (of your liking) and compare the results."
   ]
  },
  {
   "cell_type": "markdown",
   "id": "666c2725-2b02-4dbc-a908-3b7c54bb41b0",
   "metadata": {},
   "source": [
    "### Step 1\n",
    "Decide what video you are going to use for this homework, select an object and generate the template. You can use any video you want (your own, from Youtube, etc.) and track any object you want (e.g. a car, a pedestrian, etc.)."
   ]
  },
  {
   "cell_type": "markdown",
   "id": "8ac92a0c-8b9a-4b54-b877-1b0dac57e31c",
   "metadata": {},
   "source": [
    "### Step 2\n",
    "Initialize a tracker (e.g. KCF)."
   ]
  },
  {
   "cell_type": "code",
   "execution_count": 35,
   "id": "a3f89089-62d6-47b9-8adc-14d4edd3f91f",
   "metadata": {},
   "outputs": [
    {
     "name": "stdout",
     "output_type": "stream",
     "text": [
      "Select the object to track in the video.\n",
      "Select a ROI and then press SPACE or ENTER button!\n",
      "Cancel the selection process by pressing c button!\n",
      "Selected bounding box: (826, 23, 101, 95)\n",
      "Tracker initialized successfully.\n",
      "Tracker update status: True\n",
      "Tracker update status: True\n",
      "Tracker update status: True\n",
      "Tracker update status: True\n",
      "Tracker update status: True\n",
      "Tracker update status: True\n",
      "Tracker update status: True\n",
      "Tracker update status: True\n",
      "Tracker update status: True\n",
      "Tracker update status: True\n",
      "Tracker update status: True\n",
      "Tracker update status: True\n",
      "Tracker update status: True\n",
      "Tracker update status: True\n",
      "Tracker update status: True\n"
     ]
    }
   ],
   "source": [
    "import cv2\n",
    "video_path = '/Users/Roman Zubrytskyi/Downloads/Cars Moving On Road Stock Footage - Free Download.mp4'\n",
    "video = cv2.VideoCapture(video_path)\n",
    "\n",
    "ret, frame = video.read()\n",
    "if not ret or frame is None or frame.size == 0:\n",
    "    print(\"Error: Could not read the video file or first frame is invalid.\")\n",
    "    exit()\n",
    "\n",
    "print(\"Select the object to track in the video.\")\n",
    "bbox = cv2.selectROI(\"Select Object\", frame, False, False)\n",
    "cv2.destroyAllWindows()\n",
    "\n",
    "x, y, w, h = bbox\n",
    "\n",
    "if w == 0 or h == 0:\n",
    "    print(\"Error: Selected bounding box has zero width or height.\")\n",
    "    exit()\n",
    "if x < 0 or y < 0 or x + w > frame_width or y + h > frame_height:\n",
    "    print(\"Error: Bounding box is outside the frame boundaries.\")\n",
    "    exit()\n",
    "\n",
    "print(f\"Selected bounding box: {bbox}\")\n",
    "\n",
    "tracker = cv2.TrackerKCF_create()\n",
    "\n",
    "try:\n",
    "    tracker.init(frame, bbox)\n",
    "    print(\"Tracker initialized successfully.\")\n",
    "except Exception as e:\n",
    "    print(f\"Exception during tracker initialization: {e}\")\n",
    "    exit()\n",
    "\n",
    "frame_count = 0\n",
    "while frame_count < 15:\n",
    "    ret, frame = video.read()\n",
    "    if not ret or frame is None or frame.size == 0:\n",
    "        print(\"End of video or cannot read the frame.\")\n",
    "        break\n",
    "\n",
    "    try:\n",
    "        ok, bbox = tracker.update(frame)\n",
    "        print(f\"Tracker update status: {ok}\")\n",
    "    except Exception as e:\n",
    "        print(f\"Exception during tracker update: {e}\")\n",
    "        break\n",
    "\n",
    "    if ok:\n",
    "        x, y, w, h = map(int, bbox)\n",
    "        cv2.rectangle(frame, (x, y), (x + w, y + h), (0, 255, 0), 2)\n",
    "    else:\n",
    "        print(\"Tracking failed for this frame.\")\n",
    "\n",
    "    cv2.imshow(\"Tracking\", frame)\n",
    "\n",
    "    if cv2.waitKey(1) & 0xFF == ord('q'):\n",
    "        break\n",
    "\n",
    "    frame_count += 1\n",
    "\n",
    "video.release()\n",
    "cv2.destroyAllWindows()"
   ]
  },
  {
   "cell_type": "markdown",
   "id": "3202823a-3dc9-4f9d-8ffa-0cbd7b66c3d4",
   "metadata": {},
   "source": [
    "### Step 3\n",
    "Run the tracker on the video and the selected object. Run the tracker for around 10-15 frames."
   ]
  },
  {
   "cell_type": "markdown",
   "id": "435a2adb-b61a-4c4c-80d8-32c00b2e27e2",
   "metadata": {},
   "source": [
    "### Step 4\n",
    "For each frame, print the bounding box on the image and save it."
   ]
  },
  {
   "cell_type": "markdown",
   "id": "3b591d82-1ea3-4dcf-9d80-a996e92507a6",
   "metadata": {},
   "source": [
    "### Step 5\n",
    "Select a different tracker (e.g. CSRT) and repeat steps 2, 3 and 4."
   ]
  },
  {
   "cell_type": "markdown",
   "id": "789bc842-41d4-49c8-af1d-e09751b9e6a3",
   "metadata": {},
   "source": [
    "### Step 6\n",
    "Compare the results:\n",
    "\n",
    "Do you see any differences? If so, what are they?\n",
    "Does one tracker perform better than the other? In what way?"
   ]
  },
  {
   "cell_type": "markdown",
   "id": "685eb16c-a7b4-40b2-ae47-579725ec24e3",
   "metadata": {},
   "source": [
    "KCF perfoms better in terms of speed and CSRT performs better in terms of accuracy"
   ]
  }
 ],
 "metadata": {
  "kernelspec": {
   "display_name": "Python 3 (ipykernel)",
   "language": "python",
   "name": "python3"
  },
  "language_info": {
   "codemirror_mode": {
    "name": "ipython",
    "version": 3
   },
   "file_extension": ".py",
   "mimetype": "text/x-python",
   "name": "python",
   "nbconvert_exporter": "python",
   "pygments_lexer": "ipython3",
   "version": "3.12.4"
  }
 },
 "nbformat": 4,
 "nbformat_minor": 5
}
